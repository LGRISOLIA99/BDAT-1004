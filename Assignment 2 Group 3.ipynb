{
 "cells": [
  {
   "cell_type": "code",
   "execution_count": 2,
   "metadata": {},
   "outputs": [
    {
     "name": "stdout",
     "output_type": "stream",
     "text": [
      "Enter your name: Luis\n",
      "Hello Luis\n"
     ]
    }
   ],
   "source": [
    "#CHAPTER 2 - Exercise 2\n",
    "name=input ('Enter your name: ')\n",
    "b='Hello '\n",
    "print(b+name)\n"
   ]
  },
  {
   "cell_type": "code",
   "execution_count": 3,
   "metadata": {},
   "outputs": [
    {
     "name": "stdout",
     "output_type": "stream",
     "text": [
      "Enter hours: 35\n",
      "Enter rate: 2.75\n",
      "Pay 96.25\n"
     ]
    }
   ],
   "source": [
    "#CHAPTER 2 - Exercise 3\n",
    "h=input('Enter hours: ')\n",
    "r=input('Enter rate: ')\n",
    "x=float (h)* float (r)\n",
    "print ('Pay', (x))\n"
   ]
  },
  {
   "cell_type": "code",
   "execution_count": 20,
   "metadata": {},
   "outputs": [
    {
     "name": "stdout",
     "output_type": "stream",
     "text": [
      "width = 17\n",
      "heigth = 12 \n",
      "\n",
      "1. width//2 = 8\n",
      "<class 'int'>\n",
      "2. width/2.0 = 8.5\n",
      "<class 'float'>\n",
      "3. heigth/3 = 4.0\n",
      "<class 'float'>\n",
      "4. 1 + 2 * 5 = 11\n",
      "<class 'int'>\n"
     ]
    }
   ],
   "source": [
    "#CHAPTER 2 - Exercise 4\n",
    "print('width = 17')\n",
    "print('heigth = 12', ('\\n'))\n",
    "width=17\n",
    "height=12.0\n",
    "r=width//2\n",
    "print('1. width//2 =', r)\n",
    "print(type(r))\n",
    "r1=width/2.0\n",
    "print('2. width/2.0 =', r1)\n",
    "print(type(r1))\n",
    "h=height/3\n",
    "print('3. heigth/3 =', h)\n",
    "print(type(h))\n",
    "h1=1+2*5\n",
    "print('4. 1 + 2 * 5 =', h1)\n",
    "print(type(h1))\n"
   ]
  },
  {
   "cell_type": "code",
   "execution_count": 11,
   "metadata": {},
   "outputs": [
    {
     "name": "stdout",
     "output_type": "stream",
     "text": [
      "Enter the temperature in Celsius 23\n",
      "The temperature in Fahrenheit is  73.4\n"
     ]
    }
   ],
   "source": [
    "#CHAPTER 2 - Exercise 5\n",
    "celsius=input('Enter the temperature in Celsius ')\n",
    "fahrenheit=float(celsius)*9/5+32\n",
    "print('The temperature in Fahrenheit is ', fahrenheit)\n"
   ]
  },
  {
   "cell_type": "code",
   "execution_count": 15,
   "metadata": {},
   "outputs": [
    {
     "name": "stdout",
     "output_type": "stream",
     "text": [
      "Enter hours: 45\n",
      "Enter rate: 10\n",
      "475.0\n"
     ]
    }
   ],
   "source": [
    "#CHAPTER 3 - Exercise 1\n",
    "hour=float(input('Enter hours: '))\n",
    "rate=float(input('Enter rate: '))\n",
    "if  hour>40:\n",
    "    pay = 40*rate + (hour - 40)*(rate * 1.5)\n",
    "    print(pay)\n",
    "else :    \n",
    "    pay1=hour*rate\n",
    "    print(pay1)\n",
    "  "
   ]
  },
  {
   "cell_type": "code",
   "execution_count": 1,
   "metadata": {},
   "outputs": [
    {
     "name": "stdout",
     "output_type": "stream",
     "text": [
      "Enter hours: 18\n",
      "Enter rate: two\n",
      "Error, please enter numberic input\n"
     ]
    }
   ],
   "source": [
    "#CHAPTER 3 - Exercise 2\n",
    "try:\n",
    "    h=float(input('Enter hours: '))\n",
    "    r=float(input('Enter rate: '))\n",
    "    hour=float(h)\n",
    "    rate=float(r)\n",
    "    if hour>40:\n",
    "        pay=40*rate+(hour-40)*(rate*1.5)\n",
    "        print(pay)\n",
    "    else:\n",
    "        pay1-hour*rate\n",
    "        print(pay1)\n",
    "except:\n",
    "    print('Error, please enter numberic input')\n",
    "    \n",
    "    "
   ]
  },
  {
   "cell_type": "code",
   "execution_count": 16,
   "metadata": {},
   "outputs": [
    {
     "name": "stdout",
     "output_type": "stream",
     "text": [
      "Enter score: 0.67\n",
      "D\n"
     ]
    }
   ],
   "source": [
    "#CHAPTER 3 - Exercise 3\n",
    "try:\n",
    "    score=float(input('Enter score: '))\n",
    "    if score<0.0 or score>1.0:\n",
    "        print('Bad score')\n",
    "    else:\n",
    "        if (score>=0.9 and score<=1.0):\n",
    "            print('A')\n",
    "        elif (score>=0.8 and score<0.9):\n",
    "            print('B')\n",
    "        elif (score>=0.7 and score<0.8):\n",
    "            print('C')\n",
    "        elif (score>=0.6 and score<0.7):\n",
    "            print('D')\n",
    "        elif (score>=0.0 and score<0.6):\n",
    "            print('F')\n",
    "except:\n",
    "    print('Error, not valid input')\n",
    "     "
   ]
  },
  {
   "cell_type": "code",
   "execution_count": 62,
   "metadata": {},
   "outputs": [
    {
     "name": "stdout",
     "output_type": "stream",
     "text": [
      "ABC\n",
      "Zap\n",
      "ABC\n"
     ]
    }
   ],
   "source": [
    "#CHAPTER 4 - Exercise 5\n",
    "def fred():\n",
    "    print('Zap')\n",
    "    \n",
    "def jane():\n",
    "    print('ABC')\n",
    "    \n",
    "jane()\n",
    "fred()\n",
    "jane()\n",
    "  \n",
    "    "
   ]
  },
  {
   "cell_type": "code",
   "execution_count": 9,
   "metadata": {},
   "outputs": [
    {
     "name": "stdout",
     "output_type": "stream",
     "text": [
      "Enter hours: 45\n",
      "Enter rate: 10\n",
      "475.0\n"
     ]
    }
   ],
   "source": [
    "#CHAPTER 4 - Exercise 6\n",
    "def computepay(hour,rate):\n",
    "    if  hour>40:\n",
    "        pay = 40*rate + (hour - 40)*(rate * 1.5)\n",
    "        print(pay)\n",
    "    else :    \n",
    "        pay1=hour*rate\n",
    "        print(pay1)\n",
    "        \n",
    "hour=float(input('Enter hours: '))\n",
    "rate=float(input('Enter rate: '))\n",
    "computepay(hour,rate)    \n",
    "    \n"
   ]
  },
  {
   "cell_type": "code",
   "execution_count": 19,
   "metadata": {},
   "outputs": [
    {
     "name": "stdout",
     "output_type": "stream",
     "text": [
      "Enter score: 0.3\n",
      "F\n"
     ]
    }
   ],
   "source": [
    "#CHAPTER 4 - Exercise 7\n",
    "def computegrade(score):\n",
    "    try:\n",
    "        if score<0.0 or score>1.0:\n",
    "            print('Bad score')\n",
    "        else:\n",
    "            if (score>=0.9 and score<=1.0):\n",
    "                print('A')\n",
    "            elif (score>=0.8 and score<0.9):\n",
    "                print('B')\n",
    "            elif (score>=0.7 and score<0.8):\n",
    "                print('C')\n",
    "            elif (score>=0.6 and score<0.7):\n",
    "                print('D')\n",
    "            elif (score>=0.0 and score<0.6):\n",
    "                print('F')\n",
    "    except:\n",
    "        print('Error, not valid input')\n",
    "\n",
    "score=float(input('Enter score: '))\n",
    "computegrade(score)\n",
    "\n"
   ]
  },
  {
   "cell_type": "code",
   "execution_count": null,
   "metadata": {},
   "outputs": [],
   "source": []
  }
 ],
 "metadata": {
  "kernelspec": {
   "display_name": "Python 3",
   "language": "python",
   "name": "python3"
  },
  "language_info": {
   "codemirror_mode": {
    "name": "ipython",
    "version": 3
   },
   "file_extension": ".py",
   "mimetype": "text/x-python",
   "name": "python",
   "nbconvert_exporter": "python",
   "pygments_lexer": "ipython3",
   "version": "3.7.3"
  }
 },
 "nbformat": 4,
 "nbformat_minor": 2
}
